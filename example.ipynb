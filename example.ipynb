{
 "cells": [
  {
   "cell_type": "code",
   "execution_count": 1,
   "metadata": {},
   "outputs": [],
   "source": [
    "import imp_functions"
   ]
  },
  {
   "cell_type": "code",
   "execution_count": 2,
   "metadata": {},
   "outputs": [],
   "source": [
    "from imp_functions import basic_profile"
   ]
  },
  {
   "cell_type": "code",
   "execution_count": 3,
   "metadata": {},
   "outputs": [],
   "source": [
    "import pandas as pd"
   ]
  },
  {
   "cell_type": "code",
   "execution_count": 5,
   "metadata": {},
   "outputs": [],
   "source": [
    "df = pd.read_csv(\"F:/Hackathons/AV_Machine Learing starter/train_HK6lq50.csv\")"
   ]
  },
  {
   "cell_type": "code",
   "execution_count": 6,
   "metadata": {},
   "outputs": [
    {
     "name": "stdout",
     "output_type": "stream",
     "text": [
      "~~~~~~~~~~~~~~~~~~~~~~~~~~~~~~~~~~~~~~\n",
      "\n",
      "\n",
      "Basic information of the dataset\n",
      "\n",
      "<class 'pandas.core.frame.DataFrame'>\n",
      "RangeIndex: 73147 entries, 0 to 73146\n",
      "Data columns (total 16 columns):\n",
      "id                           73147 non-null object\n",
      "program_id                   73147 non-null object\n",
      "program_type                 73147 non-null object\n",
      "program_duration             73147 non-null int64\n",
      "test_id                      73147 non-null int64\n",
      "test_type                    73147 non-null object\n",
      "difficulty_level             73147 non-null object\n",
      "trainee_id                   73147 non-null int64\n",
      "gender                       73147 non-null object\n",
      "education                    73147 non-null object\n",
      "city_tier                    73147 non-null int64\n",
      "age                          45418 non-null float64\n",
      "total_programs_enrolled      73147 non-null int64\n",
      "is_handicapped               73147 non-null object\n",
      "trainee_engagement_rating    73070 non-null float64\n",
      "is_pass                      73147 non-null int64\n",
      "dtypes: float64(2), int64(6), object(8)\n",
      "memory usage: 8.9+ MB\n",
      "None\n",
      "~~~~~~~~~~~~~~~~~~~~~~~~~~~~~~~~~~~~~~\n",
      "\n",
      "\n",
      "Generate descriptive statistics\n",
      "\n",
      "       program_duration       test_id    trainee_id     city_tier  \\\n",
      "count      73147.000000  73147.000000  73147.000000  73147.000000   \n",
      "mean         128.208676     91.079306   9843.079620      2.246845   \n",
      "std            6.889679     51.239048   5703.556093      1.011587   \n",
      "min          117.000000      0.000000      1.000000      1.000000   \n",
      "25%          121.000000     45.000000   5040.000000      1.000000   \n",
      "50%          131.000000     90.000000   9641.000000      2.000000   \n",
      "75%          134.000000    135.000000  14552.000000      3.000000   \n",
      "max          136.000000    187.000000  20098.000000      4.000000   \n",
      "\n",
      "                age  total_programs_enrolled  trainee_engagement_rating  \\\n",
      "count  45418.000000             73147.000000               73070.000000   \n",
      "mean      36.494033                 2.583934                   2.395634   \n",
      "std        9.041119                 1.240816                   1.325288   \n",
      "min       17.000000                 1.000000                   1.000000   \n",
      "25%       28.000000                 2.000000                   1.000000   \n",
      "50%       39.000000                 2.000000                   2.000000   \n",
      "75%       45.000000                 3.000000                   4.000000   \n",
      "max       63.000000                14.000000                   5.000000   \n",
      "\n",
      "            is_pass  \n",
      "count  73147.000000  \n",
      "mean       0.695408  \n",
      "std        0.460238  \n",
      "min        0.000000  \n",
      "25%        0.000000  \n",
      "50%        1.000000  \n",
      "75%        1.000000  \n",
      "max        1.000000  \n",
      "~~~~~~~~~~~~~~~~~~~~~~~~~~~~~~~~~~~~~~\n",
      "\n",
      "\n",
      "The shape of the dataset is (rows x columns): (73147, 16) \n",
      "\n",
      "\n",
      "~~~~~~~~~~~~~~~~~~~~~~~~~~~~~~~~~~~~~~\n",
      "\n",
      "\n",
      "The types of column present in the dataset are :\n",
      "float64    2\n",
      "int64      6\n",
      "object     8\n",
      "dtype: int64 \n",
      "\n",
      "\n",
      "~~~~~~~~~~~~~~~~~~~~~~~~~~~~~~~~~~~~~~\n",
      "Columns with str data : Index(['id', 'program_id', 'program_type', 'test_type', 'difficulty_level',\n",
      "       'gender', 'education', 'is_handicapped'],\n",
      "      dtype='object')\n",
      "Columns with numerical data Index(['program_duration', 'test_id', 'trainee_id', 'city_tier', 'age',\n",
      "       'total_programs_enrolled', 'trainee_engagement_rating', 'is_pass'],\n",
      "      dtype='object')\n",
      "Columns with categorical data Index([], dtype='object')\n",
      "\n",
      "\n",
      "\t\tEND\n"
     ]
    },
    {
     "name": "stderr",
     "output_type": "stream",
     "text": [
      "F:\\Hackathons\\hackathon_starter_pack\\imp_functions.py:26: FutureWarning: `get_dtype_counts` has been deprecated and will be removed in a future version. For DataFrames use `.dtypes.value_counts()\n",
      "  print(data.get_dtype_counts(),'\\n\\n')\n"
     ]
    }
   ],
   "source": [
    "basic_profile(df)"
   ]
  }
 ],
 "metadata": {
  "kernelspec": {
   "display_name": "Python 3",
   "language": "python",
   "name": "python3"
  },
  "language_info": {
   "codemirror_mode": {
    "name": "ipython",
    "version": 3
   },
   "file_extension": ".py",
   "mimetype": "text/x-python",
   "name": "python",
   "nbconvert_exporter": "python",
   "pygments_lexer": "ipython3",
   "version": "3.7.4"
  }
 },
 "nbformat": 4,
 "nbformat_minor": 2
}
